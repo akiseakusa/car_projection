{
  "nbformat": 4,
  "nbformat_minor": 0,
  "metadata": {
    "colab": {
      "private_outputs": true,
      "provenance": [],
      "gpuType": "T4",
      "include_colab_link": true
    },
    "kernelspec": {
      "name": "python3",
      "display_name": "Python 3"
    },
    "language_info": {
      "name": "python"
    },
    "accelerator": "GPU"
  },
  "cells": [
    {
      "cell_type": "markdown",
      "metadata": {
        "id": "view-in-github",
        "colab_type": "text"
      },
      "source": [
        "<a href=\"https://colab.research.google.com/github/akiseakusa/car_projection/blob/main/Project2.ipynb\" target=\"_parent\"><img src=\"https://colab.research.google.com/assets/colab-badge.svg\" alt=\"Open In Colab\"/></a>"
      ]
    },
    {
      "cell_type": "markdown",
      "source": [
        "# **CNN is better suited for Image classification, I have tried out VGG16, ResNet50 and Vision Transformer**\n",
        "\n",
        "**Initial hypothesis**\n",
        "\n",
        "VGG16 - VGG16's deep, structured layers and transfer learning capabilities efficiently capture image features, making it ideal for accurate car angle detection with limited data.\n",
        "\n",
        "ResNet50- ResNet models are known for their deep architecture and skip connections, which help avoid vanishing gradients in deep networks.perform well in complex classification tasks, and their deeper architecture can help capture fine details in images.\n",
        "\n",
        "\n",
        "Vision Transformers- Vision Transformers are based on the Transformer architecture, which is known for its ability to capture long-range dependencies. They are good at image classification, especially when pretrained on large datasets.ViTs have recently shown state-of-the-art results in various vision tasks and may outperform CNNs in some cases.\n",
        "\n",
        "\n",
        "**Result**\n",
        "\n",
        "Vision Transformer consumes alot of resources and time, due to limited resources epoch was not completed, Therefore not included in Evaluation. But the accuracy was low in initial epochs whereas ResNet and VGG16 show fast Learning may be due to dense structure VIT require times.\n",
        "\n",
        "Due to limited resources tested vgg16 and resnet50 for 5 epochs , vgg16 attains 88% accuracy whereas resnet has 54% accuracy the result variation is observed due to double the size of parameter.\n",
        "\n",
        "In conclusion, if training resources are limited then no doubt vgg16 outperforms all models but where sufficient resources available for training,I prefer Resnet50 for car angle detection because it has more parameter, learn faster than vgg16 and can achieve better accuracy once trained."
      ],
      "metadata": {
        "id": "VhT_nqn9hKjL"
      }
    },
    {
      "cell_type": "code",
      "execution_count": null,
      "metadata": {
        "id": "To0CkYEUuFBZ"
      },
      "outputs": [],
      "source": [
        "!pip install -q kagglehub tensorflow fastapi uvicorn pillow transformers pyngrok python-multipart nest_asyncio\n",
        "\n"
      ]
    },
    {
      "cell_type": "markdown",
      "source": [
        "# Download Dataset"
      ],
      "metadata": {
        "id": "CYrsCrjnRuIw"
      }
    },
    {
      "cell_type": "code",
      "source": [
        "!kaggle datasets download amarcodes/car-angle-classification-dataset"
      ],
      "metadata": {
        "id": "qqyoY-wquMao"
      },
      "execution_count": null,
      "outputs": []
    },
    {
      "cell_type": "code",
      "source": [
        "!unzip /content/car-angle-classification-dataset.zip -d /content/\n"
      ],
      "metadata": {
        "id": "Sz9IEa6qQ18q"
      },
      "execution_count": null,
      "outputs": []
    },
    {
      "cell_type": "markdown",
      "source": [
        "# **Import Required**"
      ],
      "metadata": {
        "id": "vBxyC5EVa-OG"
      }
    },
    {
      "cell_type": "code",
      "source": [
        "import numpy as np\n",
        "import pandas as pd\n",
        "import tensorflow as tf\n",
        "from pyngrok import ngrok\n",
        "import nest_asyncio\n",
        "import uvicorn\n",
        "import logging\n",
        "import matplotlib.pyplot as plt\n",
        "from tensorflow.keras.applications import VGG16,ResNet50\n",
        "from tensorflow.keras.models import Sequential\n",
        "from tensorflow.keras.layers import Dense,Dropout,Convolution2D,MaxPooling2D,Flatten, GlobalAveragePooling2D, Input\n",
        "from tensorflow.keras.preprocessing.image import ImageDataGenerator\n",
        "from tensorflow.keras.preprocessing import image\n",
        "from fastapi import FastAPI, File, UploadFile"
      ],
      "metadata": {
        "id": "9ubdlTarR6J1"
      },
      "execution_count": null,
      "outputs": []
    },
    {
      "cell_type": "markdown",
      "source": [
        "# **Data Augmentation and Pre-processing**"
      ],
      "metadata": {
        "id": "YWo5eePQbKkw"
      }
    },
    {
      "cell_type": "code",
      "source": [
        "\n",
        "IMAGE_SIZE = 224\n",
        "\n",
        "datagen = ImageDataGenerator(validation_split=0.2,\n",
        "        rescale=1./255,#rescaling pixel values bw [0,1]\n",
        "        rotation_range=10,#adjusting any error in angle of image\n",
        "        zoom_range=0.2\n",
        ")"
      ],
      "metadata": {
        "id": "8SeiSofbSEwI"
      },
      "execution_count": null,
      "outputs": []
    },
    {
      "cell_type": "code",
      "source": [
        "\n",
        "\n",
        "# Set the path to your dataset directory\n",
        "dataset_path = \"/content/dataset\"\n",
        "\n",
        "train_generator = datagen.flow_from_directory(\n",
        "    dataset_path,\n",
        "    target_size=(224, 224),\n",
        "    batch_size=128,\n",
        "    class_mode='sparse',  # Use 'sparse' for integer labels\n",
        "    subset='training'  # Specify that this is the training set\n",
        ")\n",
        "\n",
        "test_generator = datagen.flow_from_directory(\n",
        "    dataset_path,\n",
        "    target_size=(224, 224),\n",
        "    batch_size=128,\n",
        "    class_mode='sparse',  # Use 'sparse' for integer labels\n",
        "    subset='validation'  # Specify that this is the validation set\n",
        ")\n",
        "\n",
        "\n"
      ],
      "metadata": {
        "id": "Rf9-GYZCuvPT"
      },
      "execution_count": null,
      "outputs": []
    },
    {
      "cell_type": "code",
      "source": [
        "class_names = list(train_generator.class_indices.keys())\n",
        "class_names"
      ],
      "metadata": {
        "id": "mrSQRF9aSm9q"
      },
      "execution_count": null,
      "outputs": []
    },
    {
      "cell_type": "markdown",
      "source": [
        "# **Vgg_model and Resnet50 Initialization**"
      ],
      "metadata": {
        "id": "MUeYBTpTdqDj"
      }
    },
    {
      "cell_type": "code",
      "source": [
        "sz = 224\n",
        "vgg_model = VGG16(weights='imagenet', include_top=False, input_shape=(sz, sz, 3))\n",
        "resnet_model = ResNet50(weights='imagenet', include_top=False, input_shape=(sz, sz, 3))"
      ],
      "metadata": {
        "id": "eP0HGBoKSsAu"
      },
      "execution_count": null,
      "outputs": []
    },
    {
      "cell_type": "code",
      "source": [
        "for layer in vgg_model.layers:\n",
        "    layer.trainable = False\n",
        "\n",
        "for layer in resnet_model.layers:\n",
        "    layer.trainable = False"
      ],
      "metadata": {
        "id": "124bbgJFSwCf"
      },
      "execution_count": null,
      "outputs": []
    },
    {
      "cell_type": "markdown",
      "source": [
        "Vgg16 Model"
      ],
      "metadata": {
        "id": "cvonLloud7Oy"
      }
    },
    {
      "cell_type": "code",
      "source": [
        "\n",
        "\n",
        "# Create the model\n",
        "model_vgg = Sequential()\n",
        "\n",
        "# Add an input layer\n",
        "model_vgg.add(Input(shape=(224, 224, 3)))  # Explicitly define input shape\n",
        "\n",
        "# Add the VGG16 model\n",
        "model_vgg.add(vgg_model)\n",
        "\n",
        "# Continue building the model\n",
        "model_vgg.add(GlobalAveragePooling2D())  # Better than flattening when dealing with CNNs\n",
        "model_vgg.add(Dense(256, activation='relu'))\n",
        "model_vgg.add(Dropout(0.5))\n",
        "model_vgg.add(Dense(8, activation='softmax'))\n",
        "\n",
        "# Compile the model\n",
        "model_vgg.compile(optimizer='adam', loss='sparse_categorical_crossentropy', metrics=['accuracy'])\n",
        "\n",
        "# Now you should be able to get the summary\n",
        "model_vgg.summary()\n",
        "\n"
      ],
      "metadata": {
        "id": "3GLqWWD8SyvI"
      },
      "execution_count": null,
      "outputs": []
    },
    {
      "cell_type": "markdown",
      "source": [
        "# **Resnet50 Architecture**"
      ],
      "metadata": {
        "id": "qwtXQL41eEb8"
      }
    },
    {
      "cell_type": "code",
      "source": [
        "model_resnet = Sequential()\n",
        "\n",
        "# Add an input layer\n",
        "model_resnet.add(Input(shape=(224, 224, 3)))  # Explicitly define input shape\n",
        "\n",
        "# Add the ResNet50 model\n",
        "model_resnet.add(resnet_model)\n",
        "\n",
        "# Continue building the model\n",
        "model_resnet.add(GlobalAveragePooling2D())  # Better than flattening when dealing with CNNs\n",
        "model_resnet.add(Dense(256, activation='relu'))\n",
        "model_resnet.add(Dropout(0.5))\n",
        "model_resnet.add(Dense(len(class_names), activation='softmax'))  # Ensure the number of classes matches\n",
        "\n",
        "# Compile the model\n",
        "model_resnet.compile(optimizer='adam', loss='sparse_categorical_crossentropy', metrics=['accuracy'])\n",
        "\n",
        "model_resnet.summary()"
      ],
      "metadata": {
        "id": "iPYf5OBbeIwP"
      },
      "execution_count": null,
      "outputs": []
    },
    {
      "cell_type": "markdown",
      "source": [
        "# **Train VGG16**"
      ],
      "metadata": {
        "id": "IfOUSONBeW50"
      }
    },
    {
      "cell_type": "code",
      "source": [
        "vgg_train = model_vgg.fit(\n",
        "    train_generator,\n",
        "    validation_data=test_generator,\n",
        "    epochs=5\n",
        ")"
      ],
      "metadata": {
        "id": "a7LNjjtRWEkx"
      },
      "execution_count": null,
      "outputs": []
    },
    {
      "cell_type": "markdown",
      "source": [
        "# **Train ResNet50**"
      ],
      "metadata": {
        "id": "MkiCGfFYecA0"
      }
    },
    {
      "cell_type": "code",
      "source": [
        "resnet_train = model_resnet.fit(\n",
        "    train_generator,\n",
        "    validation_data=test_generator,\n",
        "    epochs=5\n",
        ")"
      ],
      "metadata": {
        "id": "oCgPWrcnejmo"
      },
      "execution_count": null,
      "outputs": []
    },
    {
      "cell_type": "markdown",
      "source": [
        "# **Models Evaluation**"
      ],
      "metadata": {
        "id": "BbjLv1aGe2Xy"
      }
    },
    {
      "cell_type": "code",
      "source": [
        "scores_vgg = model_vgg.evaluate(test_generator)\n",
        "scores_vgg = model_resnet.evaluate(test_generator)"
      ],
      "metadata": {
        "id": "Hy6UsibrjCKT"
      },
      "execution_count": null,
      "outputs": []
    },
    {
      "cell_type": "markdown",
      "source": [
        "# **VIT Accuracy during initial epoch but due to high resource consumption process got crashed**"
      ],
      "metadata": {
        "id": "6xIFLOGRlQOx"
      }
    },
    {
      "cell_type": "code",
      "source": [
        "\n",
        "from transformers import ViTFeatureExtractor, TFViTForImageClassification, create_optimizer\n",
        "\n",
        "\n",
        "train_generator = datagen.flow_from_directory(\n",
        "    dataset_path,\n",
        "    target_size=(IMAGE_SIZE, IMAGE_SIZE),\n",
        "    batch_size=32,\n",
        "    class_mode='sparse',  # Integer labels\n",
        "    subset='training'     # Training data subset\n",
        ")\n",
        "\n",
        "validation_generator = datagen.flow_from_directory(\n",
        "    dataset_path,\n",
        "    target_size=(IMAGE_SIZE, IMAGE_SIZE),\n",
        "    batch_size=32,\n",
        "    class_mode='sparse',  # Integer labels\n",
        "    subset='validation'   # Validation data subset\n",
        ")\n",
        "\n",
        "# Load the Vision Transformer model and feature extractor\n",
        "feature_extractor = ViTFeatureExtractor.from_pretrained('google/vit-base-patch16-224')\n",
        "vit_model = TFViTForImageClassification.from_pretrained(\n",
        "    'google/vit-base-patch16-224',\n",
        "    num_labels=8,  # 8 classes for your car angle detection task\n",
        "    ignore_mismatched_sizes=True  # Allow the model to adapt to the number of classes\n",
        ")\n",
        "\n",
        "# Preprocess each batch on-the-fly using a custom generator function\n",
        "def preprocess_images(batch):\n",
        "    images, labels = batch\n",
        "    # Preprocess the images using the ViTFeatureExtractor\n",
        "    images = feature_extractor(images, return_tensors='tf')['pixel_values']\n",
        "    return images, labels\n",
        "\n",
        "# Wrap the train and validation generators with preprocessing function\n",
        "train_generator_with_preprocessing = map(preprocess_images, train_generator)\n",
        "validation_generator_with_preprocessing = map(preprocess_images, validation_generator)\n",
        "\n",
        "# Define optimizer using Hugging Face's utility functions\n",
        "steps_per_epoch = len(train_generator)\n",
        "validation_steps = len(validation_generator)\n",
        "num_train_steps = steps_per_epoch * 10  # 10 epochs\n",
        "\n",
        "# Create an Adam optimizer with a linear learning rate schedule\n",
        "optimizer, schedule = create_optimizer(\n",
        "    init_lr=0.01,\n",
        "    num_train_steps=num_train_steps,\n",
        "    num_warmup_steps=0,\n",
        ")\n",
        "\n",
        "# Compile the model\n",
        "vit_model.compile(optimizer=optimizer,\n",
        "                  loss=tf.keras.losses.SparseCategoricalCrossentropy(from_logits=True),\n",
        "                  metrics=['accuracy'])\n",
        "\n",
        "# Train the model using the preprocessed data generators\n",
        "history = vit_model.fit(\n",
        "    train_generator_with_preprocessing,\n",
        "    validation_data=validation_generator_with_preprocessing,\n",
        "    epochs=10,\n",
        "    steps_per_epoch=steps_per_epoch,\n",
        "    validation_steps=validation_steps\n",
        ")\n"
      ],
      "metadata": {
        "id": "491y5ViKluzr"
      },
      "execution_count": null,
      "outputs": []
    },
    {
      "cell_type": "markdown",
      "source": [
        "![image.png](data:image/png;base64,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)"
      ],
      "metadata": {
        "id": "Ueom4_VplHVP"
      }
    },
    {
      "cell_type": "markdown",
      "source": [
        "# **Fast API Code**\n",
        "\n",
        "Add Ngrok auth token and run following cell to hit FastAPI\n",
        "\n",
        "Note - follow the public Url as local is not connected with google colab\n",
        "\n"
      ],
      "metadata": {
        "id": "-x8IngGPhC2t"
      }
    },
    {
      "cell_type": "code",
      "source": [
        "# ngrok auth setup\n",
        "!ngrok config add-authtoken 2PeK25GBPCbyhAyPrZp8kGPaALy_7njuqdZ3k5tsJRRtXmt5u"
      ],
      "metadata": {
        "id": "u_GcHzk5onDe"
      },
      "execution_count": null,
      "outputs": []
    },
    {
      "cell_type": "code",
      "source": [
        "from fastapi import FastAPI, File, UploadFile\n",
        "from typing import List\n",
        "from tensorflow.keras.preprocessing import image as keras_image\n",
        "import numpy as np\n",
        "from io import BytesIO\n",
        "from PIL import Image\n",
        "from fastapi.responses import HTMLResponse\n",
        "import uvicorn\n",
        "import nest_asyncio\n",
        "from pyngrok import ngrok\n",
        "\n",
        "# Start an ngrok tunnel\n",
        "public_url = ngrok.connect(8000)\n",
        "print(f\"Public URL: {public_url}\")\n",
        "\n",
        "app = FastAPI()\n",
        "\n",
        "# Define the class names (as per your dataset)\n",
        "class_names = ['0', '130', '180', '230', '270', '320', '40', '90']\n",
        "\n",
        "\n",
        "@app.post(\"/uploadfiles/\")\n",
        "async def create_upload_files(files: List[UploadFile] = File(...)):\n",
        "    \"\"\"API endpoint to handle image upload and prediction\"\"\"\n",
        "    for img_file in files:\n",
        "        contents = await img_file.read()  # Read the file content\n",
        "\n",
        "        # Convert the file content to an image using PIL\n",
        "        img = Image.open(BytesIO(contents))  # Use BytesIO to handle file content\n",
        "        img = img.resize((224, 224))  # Resize to 224x224 using PIL\n",
        "\n",
        "        # Convert the PIL image to a NumPy array using TensorFlow's image module\n",
        "        img_array = keras_image.img_to_array(img)  # Convert image to array\n",
        "        img_array = img_array / 255.0  # Rescale pixel values to [0,1]\n",
        "        img_array = np.expand_dims(img_array, axis=0)  # Add batch dimension\n",
        "\n",
        "        # Make predictions with the pre-trained model\n",
        "        predictions = model_vgg.predict(img_array)\n",
        "        predicted_class_index = np.argmax(predictions[0])  # Get the index of the predicted class\n",
        "        predicted_class = class_names[predicted_class_index]\n",
        "\n",
        "        # Return HTML content with the result\n",
        "        result_content = f\"\"\"\n",
        "        <body>\n",
        "            <h3>Upload car image to get the car angle</h3>\n",
        "            <form action=\"/uploadfiles/\" enctype=\"multipart/form-data\" method=\"post\">\n",
        "                <input name=\"files\" type=\"file\" multiple>\n",
        "                <input type=\"submit\">\n",
        "            </form>\n",
        "            <h3>Predicted car angle: {predicted_class} (Class index: {predicted_class_index})</h3>\n",
        "        </body>\n",
        "        \"\"\"\n",
        "        return HTMLResponse(content=result_content)\n",
        "\n",
        "@app.get(\"/\")\n",
        "async def main():\n",
        "    \"\"\"Create a basic home page with a file upload form\"\"\"\n",
        "    content = \"\"\"\n",
        "    <body>\n",
        "        <h3>Upload car image to get the car angle</h3>\n",
        "        <form action=\"/uploadfiles/\" enctype=\"multipart/form-data\" method=\"post\">\n",
        "            <input name=\"files\" type=\"file\" multiple>\n",
        "            <input type=\"submit\">\n",
        "        </form>\n",
        "    </body>\n",
        "    \"\"\"\n",
        "    return HTMLResponse(content=content)\n",
        "\n",
        "# Run FastAPI in the notebook environment\n",
        "nest_asyncio.apply()\n",
        "uvicorn.run(app, host=\"0.0.0.0\", port=8000)\n"
      ],
      "metadata": {
        "id": "Ytv-JQNchJQa"
      },
      "execution_count": null,
      "outputs": []
    }
  ]
}
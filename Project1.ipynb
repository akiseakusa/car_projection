{
  "nbformat": 4,
  "nbformat_minor": 0,
  "metadata": {
    "colab": {
      "private_outputs": true,
      "provenance": [],
      "include_colab_link": true
    },
    "kernelspec": {
      "name": "python3",
      "display_name": "Python 3"
    },
    "language_info": {
      "name": "python"
    }
  },
  "cells": [
    {
      "cell_type": "markdown",
      "metadata": {
        "id": "view-in-github",
        "colab_type": "text"
      },
      "source": [
        "<a href=\"https://colab.research.google.com/github/akiseakusa/car_projection/blob/main/Project1.ipynb\" target=\"_parent\"><img src=\"https://colab.research.google.com/assets/colab-badge.svg\" alt=\"Open In Colab\"/></a>"
      ]
    },
    {
      "cell_type": "markdown",
      "source": [
        "First to remove noise in provided mask, I have use erosion followed by dilution\n",
        "\n",
        "Then algin the wall and floor using image stiching and superimpose the car on the stitched image\n",
        "\n",
        "car shadow not added,because of following reason\n",
        "\n",
        "*   shadow_mask.size not eqaul to car_image.size\n",
        "*   Do not know the direction of source(we can generate the shadow)\n",
        "*   Tried to resize and add according to car mask end,but shadow can be of either side of car, otherwise it may mask other region too if add extra margin in space\n",
        "\n",
        "\n",
        "\n",
        "\n"
      ],
      "metadata": {
        "id": "Smz-GiftVU-a"
      }
    },
    {
      "cell_type": "code",
      "source": [
        "import cv2\n",
        "import numpy as np\n",
        "from matplotlib import pyplot as plt\n",
        "from PIL import Image,ImageOps"
      ],
      "metadata": {
        "id": "4ex-FxHXFkz3"
      },
      "execution_count": null,
      "outputs": []
    },
    {
      "cell_type": "code",
      "source": [
        "# to mitigate noise in mask\n",
        "\n",
        "# Load the image (assuming it's a binary mask)\n",
        "image = cv2.imread('/content/4.png', 0)  # Load as grayscale\n",
        "\n",
        "# Apply a binary threshold to ensure it's a binary image\n",
        "_, binary_image = cv2.threshold(image, 127, 255, cv2.THRESH_BINARY)\n",
        "\n",
        "# Define a kernel for morphological operations\n",
        "kernel = np.ones((5, 5), np.uint8)  # Adjust the size of the kernel if needed\n",
        "\n",
        "# Use morphological opening to remove small noise (erosion followed by dilation)\n",
        "clean_image = cv2.morphologyEx(binary_image, cv2.MORPH_OPEN, kernel)\n",
        "\n",
        "# Optionally, use median blur to further smooth the mask and remove small dots\n",
        "clean_image_blur = cv2.medianBlur(clean_image, 5)\n",
        "\n",
        "# Display the results\n",
        "plt.subplot(1, 2, 1)\n",
        "plt.title(\"Original Image\")\n",
        "plt.imshow(binary_image, cmap='gray')\n",
        "\n",
        "plt.subplot(1, 2, 2)\n",
        "plt.title(\"Cleaned Image\")\n",
        "plt.imshow(clean_image_blur, cmap='gray')\n",
        "\n",
        "plt.show()\n",
        "\n",
        "# Save the cleaned image\n",
        "cv2.imwrite('/content/mask/4.png', clean_image_blur)\n"
      ],
      "metadata": {
        "id": "YIZc4HRqwfAE"
      },
      "execution_count": null,
      "outputs": []
    },
    {
      "cell_type": "code",
      "source": [
        "#----------------correct code add scaling for floor and wall-------------------\n",
        "# Load images\n",
        "car_image = Image.open('/content/images/2.jpeg')\n",
        "mask_image = Image.open('/content/mask/2.png').convert('L')  # Convert mask to grayscale\n",
        "floor_image = Image.open('/content/floor.png')\n",
        "wall_image = Image.open('/content/wall.png')\n",
        "\n",
        "# Resize the floor and wall images to fit the car image\n",
        "wall_width, wall_height = wall_image.size\n",
        "floor_width, floor_height = floor_image.size\n",
        "\n",
        "new_height = wall_height + floor_height\n",
        "# Create a new background image\n",
        "background = Image.new(\"RGB\", (wall_width, new_height))\n",
        "\n",
        "# Paste the wall at the top and floor at the bottom\n",
        "background.paste(wall_image, (0, 0))  # Paste wall at the top\n",
        "background.paste(floor_image, (0, new_height - floor_height))  # Paste floor at the bottom\n",
        "background_resized = background.resize(mask_image.size)\n",
        "\n",
        "# Get the bounding box of the car from the mask\n",
        "car_bbox = mask_image.getbbox()  # (left, upper, right, lower)\n",
        "\n",
        "# Vertical shift value (positive for downward, negative for upward)\n",
        "vertical_shift = 200  # Example: move the car down by 50 pixels\n",
        "\n",
        "# Shift the bounding box of the car to apply the vertical shift\n",
        "left, upper, right, lower = car_bbox\n",
        "upper_shifted = upper + vertical_shift\n",
        "lower_shifted = lower + vertical_shift\n",
        "\n",
        "# Define a new bounding box based on the vertical shift\n",
        "car_bbox_shifted = (left, upper_shifted, right, lower_shifted)\n",
        "\n",
        "# Now shift the mask image by creating a new mask with the shifted bounding box\n",
        "shifted_mask = Image.new(\"L\", mask_image.size, 0)\n",
        "shifted_mask.paste(mask_image, (0, vertical_shift))  # Apply the vertical shift to the mask\n",
        "\n",
        "# Create a new blank image to paste the car image in the shifted position\n",
        "shifted_car_image = Image.new(\"RGBA\", car_image.size)\n",
        "shifted_car_image.paste(car_image, (0, vertical_shift))  # Apply the same shift to the car image\n",
        "\n",
        "# Apply the shifted mask to combine the car with the new background\n",
        "composite_image = Image.composite(shifted_car_image, background_resized, shifted_mask)\n",
        "\n",
        "# Save the final image\n",
        "output_path = '/content/output_image_shifted.png'\n",
        "composite_image.save(output_path)\n",
        "\n",
        "# Convert the car image to a format compatible with matplotlib\n",
        "car_image_np = np.array(composite_image)\n",
        "\n",
        "# Create a figure and axis to display the final image\n",
        "plt.figure(figsize=(8, 6))\n",
        "plt.imshow(car_image_np)\n",
        "plt.axis('off')  # Turn off axis numbers and ticks\n",
        "\n",
        "# # Draw a red rectangle around the car's shifted bounding box\n",
        "# rectangle = plt.Rectangle((left, upper_shifted), right - left, lower_shifted - upper_shifted,\n",
        "#                           edgecolor='red', facecolor='none', linewidth=2)\n",
        "# plt.gca().add_patch(rectangle)\n",
        "\n",
        "# Show the result\n",
        "plt.show()\n",
        "\n",
        "# Output path\n",
        "print(\"Image saved to:\", output_path)\n"
      ],
      "metadata": {
        "id": "dNu7ZDCL7vlh"
      },
      "execution_count": null,
      "outputs": []
    },
    {
      "cell_type": "code",
      "source": [
        "#correct do not change\n",
        "\n",
        "\n",
        "# Load images\n",
        "car_image = Image.open('/content/images/2.jpeg')\n",
        "mask_image = Image.open('/content/mask/2.png').convert('L')  # Convert mask to grayscale\n",
        "floor_image = Image.open('/content/floor.png')\n",
        "wall_image = Image.open('/content/wall.png')\n",
        "shadow_image = Image.open('shadow_mask/2.png')\n",
        "car_width, car_height = car_image.size\n",
        "padded_shadow_mask = ImageOps.pad(shadow_image, (car_width, car_height), color=(0, 0, 0))\n",
        "padded_shadow_mask = padded_shadow_mask.convert(\"L\")\n",
        "# Resize the floor and wall images to fit the car image\n",
        "wall_width, wall_height = wall_image.size\n",
        "floor_width, floor_height = floor_image.size\n",
        "\n",
        "new_height = wall_height+floor_height\n",
        "# Create a new background image\n",
        "background = Image.new(\"RGB\", (wall_width, new_height))\n",
        "\n",
        "# Paste the wall at the top and floor at the bottom\n",
        "background.paste(wall_image, (0, 0))  # Paste wall at the top\n",
        "background.paste(floor_image, (0, new_height- floor_height))  # Paste floor at the bottom\n",
        "background_resized = background.resize(mask_image.size)\n",
        "# Apply the mask to combine the car with the new background\n",
        "pre_composite_image = Image.composite(car_image, background_resized, mask_image)\n",
        "composite_image = Image.composite(car_image, pre_composite_image , padded_shadow_mask)\n",
        "# Save the final image\n",
        "output_path = '/content/output_image.png'\n",
        "composite_image.save(output_path)\n",
        "car_bbox = mask_image.getbbox()  # (left, upper, right, lower)\n",
        "\n",
        "# Convert the car image to a format compatible with matplotlib\n",
        "car_image_np = np.array(composite_image)\n",
        "\n",
        "# Create a figure and axis\n",
        "plt.figure(figsize=(8, 6))\n",
        "plt.imshow(car_image_np)\n",
        "plt.axis('off')  # Turn off axis numbers and ticks\n",
        "\n",
        "left, upper, right, lower = car_bbox\n",
        "rectangle = plt.Rectangle((left, upper), right - left, lower - upper,\n",
        "                          edgecolor='red', facecolor='none', linewidth=2)\n",
        "plt.gca().add_patch(rectangle)\n",
        "# Output path\n",
        "print(\"Image saved to:\", output_path)\n"
      ],
      "metadata": {
        "id": "dwSVTgmIVxj0"
      },
      "execution_count": null,
      "outputs": []
    }
  ]
}